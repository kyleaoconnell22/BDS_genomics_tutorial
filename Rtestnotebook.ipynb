{
 "cells": [
  {
   "cell_type": "code",
   "execution_count": 1,
   "id": "481ee005",
   "metadata": {},
   "outputs": [],
   "source": [
    "suppressPackageStartupMessages(library(knitr, quietly))\n",
    "opts_knit$set(eval.after = \"fig.cap\")\n",
    "\n",
    "knitr::opts_chunk$set(echo = TRUE, warnings=FALSE, messages=FALSE, highlight=TRUE, \n",
    "                      collapse=TRUE, tidy=FALSE, eval=TRUE)"
   ]
  },
  {
   "cell_type": "code",
   "execution_count": 2,
   "id": "cefed0f7",
   "metadata": {},
   "outputs": [],
   "source": [
    "library(png)"
   ]
  },
  {
   "cell_type": "code",
   "execution_count": 3,
   "id": "e96acd7d",
   "metadata": {},
   "outputs": [
    {
     "name": "stderr",
     "output_type": "stream",
     "text": [
      "Warning message:\n",
      "“no DISPLAY variable so Tk is not available”\n"
     ]
    }
   ],
   "source": [
    "##---------------------------------------\n",
    "##  LOAD PHOSPHOPROTEOMICS FUNCTIONS\n",
    "##---------------------------------------\n",
    "\n",
    "#install.packages(\"UniprotR\")\n",
    "#library(UniprotR)\n",
    "\n",
    "#source(\"./R/phosphoproteomics_functions_85_all.R\")\n",
    "\n",
    "#source(\"./R/phosphoproteomics_functions_85_Noclusterprofiler.R\")\n",
    "source(\"./R/phosphoproteomics_functions_89_all_Noclusterprofiler.R\")"
   ]
  },
  {
   "cell_type": "code",
   "execution_count": 4,
   "id": "3389bd88",
   "metadata": {},
   "outputs": [
    {
     "data": {
      "text/html": [
       "'/home/jupyter/uams-rscripts/R_scripts-20210617T151805Z-001/R_scripts/PhosphoTMT'"
      ],
      "text/latex": [
       "'/home/jupyter/uams-rscripts/R\\_scripts-20210617T151805Z-001/R\\_scripts/PhosphoTMT'"
      ],
      "text/markdown": [
       "'/home/jupyter/uams-rscripts/R_scripts-20210617T151805Z-001/R_scripts/PhosphoTMT'"
      ],
      "text/plain": [
       "[1] \"/home/jupyter/uams-rscripts/R_scripts-20210617T151805Z-001/R_scripts/PhosphoTMT\""
      ]
     },
     "metadata": {},
     "output_type": "display_data"
    },
    {
     "data": {
      "text/html": [
       "'protein_analysis/01_protein_data'"
      ],
      "text/latex": [
       "'protein\\_analysis/01\\_protein\\_data'"
      ],
      "text/markdown": [
       "'protein_analysis/01_protein_data'"
      ],
      "text/plain": [
       "[1] \"protein_analysis/01_protein_data\""
      ]
     },
     "metadata": {},
     "output_type": "display_data"
    },
    {
     "data": {
      "text/html": [
       "'protein_analysis/02_quality_control'"
      ],
      "text/latex": [
       "'protein\\_analysis/02\\_quality\\_control'"
      ],
      "text/markdown": [
       "'protein_analysis/02_quality_control'"
      ],
      "text/plain": [
       "[1] \"protein_analysis/02_quality_control\""
      ]
     },
     "metadata": {},
     "output_type": "display_data"
    },
    {
     "data": {
      "text/html": [
       "'protein_analysis/03_diff_expression'"
      ],
      "text/latex": [
       "'protein\\_analysis/03\\_diff\\_expression'"
      ],
      "text/markdown": [
       "'protein_analysis/03_diff_expression'"
      ],
      "text/plain": [
       "[1] \"protein_analysis/03_diff_expression\""
      ]
     },
     "metadata": {},
     "output_type": "display_data"
    },
    {
     "data": {
      "text/html": [
       "'protein_analysis/04_functional_annotation'"
      ],
      "text/latex": [
       "'protein\\_analysis/04\\_functional\\_annotation'"
      ],
      "text/markdown": [
       "'protein_analysis/04_functional_annotation'"
      ],
      "text/plain": [
       "[1] \"protein_analysis/04_functional_annotation\""
      ]
     },
     "metadata": {},
     "output_type": "display_data"
    },
    {
     "name": "stderr",
     "output_type": "stream",
     "text": [
      "Warning message in dir.create(dat.dir, recursive = TRUE):\n",
      "“'protein_analysis/01_protein_data' already exists”\n",
      "Warning message in dir.create(figs.dir, recursive = TRUE):\n",
      "“'protein_analysis/02_quality_control' already exists”\n",
      "Warning message in dir.create(lim.dir, recursive = TRUE):\n",
      "“'protein_analysis/03_diff_expression' already exists”\n",
      "Warning message in dir.create(fun.dir, recursive = TRUE):\n",
      "“'protein_analysis/04_functional_annotation' already exists”\n",
      "Warning message in dir.create(\"rdata\", recursive = TRUE):\n",
      "“'rdata' already exists”\n",
      "Warning message in dir.create(\"databases\", recursive = TRUE):\n",
      "“'databases' already exists”\n"
     ]
    }
   ],
   "source": [
    "proj.dir <- getwd();proj.dir\n",
    "dat.dir  <- paste(\"protein_analysis\", \"01_protein_data\", sep=\"/\")\n",
    "figs.dir <- paste(\"protein_analysis\", \"02_quality_control\", sep=\"/\")\n",
    "lim.dir  <- paste(\"protein_analysis\", \"03_diff_expression\", sep=\"/\")\n",
    "fun.dir  <- paste(\"protein_analysis\", \"04_functional_annotation\", sep=\"/\")\n",
    "dat.dir; figs.dir; lim.dir; fun.dir\n",
    "\n",
    "if(!exists(dat.dir)){dir.create(dat.dir, recursive=TRUE)}\n",
    "if(!exists(figs.dir)){dir.create(figs.dir, recursive=TRUE)}\n",
    "if(!exists(lim.dir)){dir.create(lim.dir, recursive=TRUE)}\n",
    "if(!exists(fun.dir)){dir.create(fun.dir, recursive=TRUE)}\n",
    "\n",
    "if(!exists(\"data\")){dir.create(\"data\", recursive=TRUE)}\n",
    "if(!exists(\"rdata\")){dir.create(\"rdata\", recursive=TRUE)}\n",
    "if(!exists(\"databases\")){dir.create(\"databases\", recursive=TRUE)}\n",
    "\n",
    "dirs <- list(dat.dir=dat.dir, figs.dir=figs.dir, lim.dir=lim.dir, fun.dir=fun.dir,\n",
    "             proj.dir=proj.dir)"
   ]
  },
  {
   "cell_type": "code",
   "execution_count": 5,
   "id": "0db48e91",
   "metadata": {},
   "outputs": [],
   "source": [
    "## **4. Import Data**\n",
    "\n",
    "### **4.1 Import Protein Data**\n",
    "\n",
    "\n",
    "##----------------------------------------\n",
    "##    IMPORT MAXQUANT PROTEIN DATA\n",
    "##----------------------------------------\n",
    "protein.file <- \"./txt/proteinGroups.txt\"\n",
    "ilab         <- \"Higgs_020421\""
   ]
  },
  {
   "cell_type": "code",
   "execution_count": 6,
   "id": "3f4e89d3",
   "metadata": {},
   "outputs": [
    {
     "name": "stdout",
     "output_type": "stream",
     "text": [
      "[2021-09-07 13:51:34]: importing MaxQuant protein data ...\n",
      "[2021-09-07 13:51:34]: file =  ./txt/proteinGroups.txt\n",
      "[2021-09-07 13:51:34]: 7882 protein entries and  113 columns of info. imported.\n",
      "[2021-09-07 13:51:34]: input maxQuant protein data contains  7882  proteins and  113  columns.\n",
      "[2021-09-07 13:51:34]: 838  protein contaminants removed. \n",
      "[2021-09-07 13:51:34]: 7044  proteins kept for further analysis.\n",
      "[2021-09-07 13:51:34]: corrected reporter intensity data for  7044  proteins and  11  samples extracted.\n",
      "[2021-09-07 13:51:34]: saving : extracted protein data ...\n",
      "[2021-09-07 13:51:34]: generating protein targets template file (saved in main project directory ...\n",
      "[2021-09-07 13:51:34]: saving : ./protein_targets_template.csv ...\n",
      "\n",
      "\n",
      "protein stats:\n",
      "                    value\n",
      "no_all_samples         11\n",
      "no_contam_proteins    838\n",
      "no_input_columns      113\n",
      "no_input_proteins    7882\n",
      "no_qfilter_proteins  7044\n",
      "no_raw_proteins      7044\n",
      "\n",
      "\n",
      "[2021-09-07 13:51:34]: saving extracted protein data ... \n",
      "[2021-09-07 13:51:34]: filename = ./rdata/protein_data.rda\n"
     ]
    }
   ],
   "source": [
    "#extractProtein <- extractProteinData(file=protein.file, ilab=ilab, sampleIDs=NULL, template=FALSE)\n",
    "extractProtein <- extractProteinData(file=protein.file, ilab=ilab, sampleIDs=NULL, template=TRUE)"
   ]
  },
  {
   "cell_type": "code",
   "execution_count": 7,
   "id": "b716851d",
   "metadata": {},
   "outputs": [],
   "source": [
    "## SAVE QUALITY FILTERED DATA AND ANNOTATION FILES\n",
    "write.csv(extractProtein$rawAnnot, file=file.path(dat.dir, \"protein_annotation.csv\"))\n",
    "write.csv(extractProtein$rawData, file=file.path(dat.dir, \"protein_intensities.csv\"))"
   ]
  },
  {
   "cell_type": "code",
   "execution_count": 8,
   "id": "68959fca",
   "metadata": {},
   "outputs": [
    {
     "data": {
      "text/html": [
       "<style>\n",
       ".list-inline {list-style: none; margin:0; padding: 0}\n",
       ".list-inline>li {display: inline-block}\n",
       ".list-inline>li:not(:last-child)::after {content: \"\\00b7\"; padding: 0 .5ex}\n",
       "</style>\n",
       "<ol class=list-inline><li>'001_protein_raw_extract.csv'</li><li>'002_protein_raw_annot.csv'</li><li>'003_protein_raw_data.csv'</li></ol>\n"
      ],
      "text/latex": [
       "\\begin{enumerate*}\n",
       "\\item '001\\_protein\\_raw\\_extract.csv'\n",
       "\\item '002\\_protein\\_raw\\_annot.csv'\n",
       "\\item '003\\_protein\\_raw\\_data.csv'\n",
       "\\end{enumerate*}\n"
      ],
      "text/markdown": [
       "1. '001_protein_raw_extract.csv'\n",
       "2. '002_protein_raw_annot.csv'\n",
       "3. '003_protein_raw_data.csv'\n",
       "\n",
       "\n"
      ],
      "text/plain": [
       "[1] \"001_protein_raw_extract.csv\" \"002_protein_raw_annot.csv\"  \n",
       "[3] \"003_protein_raw_data.csv\"   "
      ]
     },
     "metadata": {},
     "output_type": "display_data"
    },
    {
     "data": {
      "text/html": [
       "<style>\n",
       ".list-inline {list-style: none; margin:0; padding: 0}\n",
       ".list-inline>li {display: inline-block}\n",
       ".list-inline>li:not(:last-child)::after {content: \"\\00b7\"; padding: 0 .5ex}\n",
       "</style>\n",
       "<ol class=list-inline><li>'protein_annotation.csv'</li><li>'protein_intensities.csv'</li><li>'protein_sample_metadata.csv'</li></ol>\n"
      ],
      "text/latex": [
       "\\begin{enumerate*}\n",
       "\\item 'protein\\_annotation.csv'\n",
       "\\item 'protein\\_intensities.csv'\n",
       "\\item 'protein\\_sample\\_metadata.csv'\n",
       "\\end{enumerate*}\n"
      ],
      "text/markdown": [
       "1. 'protein_annotation.csv'\n",
       "2. 'protein_intensities.csv'\n",
       "3. 'protein_sample_metadata.csv'\n",
       "\n",
       "\n"
      ],
      "text/plain": [
       "[1] \"protein_annotation.csv\"      \"protein_intensities.csv\"    \n",
       "[3] \"protein_sample_metadata.csv\""
      ]
     },
     "metadata": {},
     "output_type": "display_data"
    },
    {
     "data": {
      "text/html": [
       "'protein_data.rda'"
      ],
      "text/latex": [
       "'protein\\_data.rda'"
      ],
      "text/markdown": [
       "'protein_data.rda'"
      ],
      "text/plain": [
       "[1] \"protein_data.rda\""
      ]
     },
     "metadata": {},
     "output_type": "display_data"
    }
   ],
   "source": [
    "list.files(path=\"./data/protein_data\", pattern=\".csv\")\n",
    "list.files(path=dat.dir, pattern=\".csv\")\n",
    "list.files(path=\"rdata\")\n",
    "\n",
    "## protein stats:\n",
    "## \n",
    "## no_all_samples         20\n",
    "## no_input_proteins    9532\n",
    "## no_input_columns      208\n",
    "## no_contam_proteins   1528\n",
    "## no_qfilter_proteins  8004"
   ]
  },
  {
   "cell_type": "code",
   "execution_count": 9,
   "id": "567b14b2",
   "metadata": {},
   "outputs": [
    {
     "data": {
      "text/html": [
       "<table class=\"dataframe\">\n",
       "<caption>A data.frame: 11 × 6</caption>\n",
       "<thead>\n",
       "\t<tr><th></th><th scope=col>sampleIDs</th><th scope=col>channel</th><th scope=col>enrichment</th><th scope=col>sample</th><th scope=col>group</th><th scope=col>batch</th></tr>\n",
       "\t<tr><th></th><th scope=col>&lt;chr&gt;</th><th scope=col>&lt;int&gt;</th><th scope=col>&lt;chr&gt;</th><th scope=col>&lt;chr&gt;</th><th scope=col>&lt;chr&gt;</th><th scope=col>&lt;int&gt;</th></tr>\n",
       "</thead>\n",
       "<tbody>\n",
       "\t<tr><th scope=row>Reporter.intensity.corrected.1.TMT1_Lysate</th><td>Reporter.intensity.corrected.1.TMT1_Lysate </td><td> 1</td><td>protein</td><td>control.1    </td><td>control    </td><td>1</td></tr>\n",
       "\t<tr><th scope=row>Reporter.intensity.corrected.2.TMT1_Lysate</th><td>Reporter.intensity.corrected.2.TMT1_Lysate </td><td> 2</td><td>protein</td><td>control.2    </td><td>control    </td><td>1</td></tr>\n",
       "\t<tr><th scope=row>Reporter.intensity.corrected.3.TMT1_Lysate</th><td>Reporter.intensity.corrected.3.TMT1_Lysate </td><td> 3</td><td>protein</td><td>control.3    </td><td>control    </td><td>1</td></tr>\n",
       "\t<tr><th scope=row>Reporter.intensity.corrected.4.TMT1_Lysate</th><td>Reporter.intensity.corrected.4.TMT1_Lysate </td><td> 4</td><td>protein</td><td>CCCP.1       </td><td>CCCP       </td><td>1</td></tr>\n",
       "\t<tr><th scope=row>Reporter.intensity.corrected.5.TMT1_Lysate</th><td>Reporter.intensity.corrected.5.TMT1_Lysate </td><td> 5</td><td>protein</td><td>CCCP.2       </td><td>CCCP       </td><td>1</td></tr>\n",
       "\t<tr><th scope=row>Reporter.intensity.corrected.6.TMT1_Lysate</th><td>Reporter.intensity.corrected.6.TMT1_Lysate </td><td> 6</td><td>protein</td><td>CCCP.3       </td><td>CCCP       </td><td>1</td></tr>\n",
       "\t<tr><th scope=row>Reporter.intensity.corrected.7.TMT1_Lysate</th><td>Reporter.intensity.corrected.7.TMT1_Lysate </td><td> 7</td><td>protein</td><td>CCCP.4       </td><td>CCCP       </td><td>1</td></tr>\n",
       "\t<tr><th scope=row>Reporter.intensity.corrected.8.TMT1_Lysate</th><td>Reporter.intensity.corrected.8.TMT1_Lysate </td><td> 8</td><td>protein</td><td>Go6976.CCCP.1</td><td>Go6976.CCCP</td><td>1</td></tr>\n",
       "\t<tr><th scope=row>Reporter.intensity.corrected.9.TMT1_Lysate</th><td>Reporter.intensity.corrected.9.TMT1_Lysate </td><td> 9</td><td>protein</td><td>Go6976.CCCP.2</td><td>Go6976.CCCP</td><td>1</td></tr>\n",
       "\t<tr><th scope=row>Reporter.intensity.corrected.10.TMT1_Lysate</th><td>Reporter.intensity.corrected.10.TMT1_Lysate</td><td>10</td><td>protein</td><td>Go6976.CCCP.3</td><td>Go6976.CCCP</td><td>1</td></tr>\n",
       "\t<tr><th scope=row>Reporter.intensity.corrected.11.TMT1_Lysate</th><td>Reporter.intensity.corrected.11.TMT1_Lysate</td><td>11</td><td>protein</td><td>pool         </td><td>pool       </td><td>1</td></tr>\n",
       "</tbody>\n",
       "</table>\n"
      ],
      "text/latex": [
       "A data.frame: 11 × 6\n",
       "\\begin{tabular}{r|llllll}\n",
       "  & sampleIDs & channel & enrichment & sample & group & batch\\\\\n",
       "  & <chr> & <int> & <chr> & <chr> & <chr> & <int>\\\\\n",
       "\\hline\n",
       "\tReporter.intensity.corrected.1.TMT1\\_Lysate & Reporter.intensity.corrected.1.TMT1\\_Lysate  &  1 & protein & control.1     & control     & 1\\\\\n",
       "\tReporter.intensity.corrected.2.TMT1\\_Lysate & Reporter.intensity.corrected.2.TMT1\\_Lysate  &  2 & protein & control.2     & control     & 1\\\\\n",
       "\tReporter.intensity.corrected.3.TMT1\\_Lysate & Reporter.intensity.corrected.3.TMT1\\_Lysate  &  3 & protein & control.3     & control     & 1\\\\\n",
       "\tReporter.intensity.corrected.4.TMT1\\_Lysate & Reporter.intensity.corrected.4.TMT1\\_Lysate  &  4 & protein & CCCP.1        & CCCP        & 1\\\\\n",
       "\tReporter.intensity.corrected.5.TMT1\\_Lysate & Reporter.intensity.corrected.5.TMT1\\_Lysate  &  5 & protein & CCCP.2        & CCCP        & 1\\\\\n",
       "\tReporter.intensity.corrected.6.TMT1\\_Lysate & Reporter.intensity.corrected.6.TMT1\\_Lysate  &  6 & protein & CCCP.3        & CCCP        & 1\\\\\n",
       "\tReporter.intensity.corrected.7.TMT1\\_Lysate & Reporter.intensity.corrected.7.TMT1\\_Lysate  &  7 & protein & CCCP.4        & CCCP        & 1\\\\\n",
       "\tReporter.intensity.corrected.8.TMT1\\_Lysate & Reporter.intensity.corrected.8.TMT1\\_Lysate  &  8 & protein & Go6976.CCCP.1 & Go6976.CCCP & 1\\\\\n",
       "\tReporter.intensity.corrected.9.TMT1\\_Lysate & Reporter.intensity.corrected.9.TMT1\\_Lysate  &  9 & protein & Go6976.CCCP.2 & Go6976.CCCP & 1\\\\\n",
       "\tReporter.intensity.corrected.10.TMT1\\_Lysate & Reporter.intensity.corrected.10.TMT1\\_Lysate & 10 & protein & Go6976.CCCP.3 & Go6976.CCCP & 1\\\\\n",
       "\tReporter.intensity.corrected.11.TMT1\\_Lysate & Reporter.intensity.corrected.11.TMT1\\_Lysate & 11 & protein & pool          & pool        & 1\\\\\n",
       "\\end{tabular}\n"
      ],
      "text/markdown": [
       "\n",
       "A data.frame: 11 × 6\n",
       "\n",
       "| <!--/--> | sampleIDs &lt;chr&gt; | channel &lt;int&gt; | enrichment &lt;chr&gt; | sample &lt;chr&gt; | group &lt;chr&gt; | batch &lt;int&gt; |\n",
       "|---|---|---|---|---|---|---|\n",
       "| Reporter.intensity.corrected.1.TMT1_Lysate | Reporter.intensity.corrected.1.TMT1_Lysate  |  1 | protein | control.1     | control     | 1 |\n",
       "| Reporter.intensity.corrected.2.TMT1_Lysate | Reporter.intensity.corrected.2.TMT1_Lysate  |  2 | protein | control.2     | control     | 1 |\n",
       "| Reporter.intensity.corrected.3.TMT1_Lysate | Reporter.intensity.corrected.3.TMT1_Lysate  |  3 | protein | control.3     | control     | 1 |\n",
       "| Reporter.intensity.corrected.4.TMT1_Lysate | Reporter.intensity.corrected.4.TMT1_Lysate  |  4 | protein | CCCP.1        | CCCP        | 1 |\n",
       "| Reporter.intensity.corrected.5.TMT1_Lysate | Reporter.intensity.corrected.5.TMT1_Lysate  |  5 | protein | CCCP.2        | CCCP        | 1 |\n",
       "| Reporter.intensity.corrected.6.TMT1_Lysate | Reporter.intensity.corrected.6.TMT1_Lysate  |  6 | protein | CCCP.3        | CCCP        | 1 |\n",
       "| Reporter.intensity.corrected.7.TMT1_Lysate | Reporter.intensity.corrected.7.TMT1_Lysate  |  7 | protein | CCCP.4        | CCCP        | 1 |\n",
       "| Reporter.intensity.corrected.8.TMT1_Lysate | Reporter.intensity.corrected.8.TMT1_Lysate  |  8 | protein | Go6976.CCCP.1 | Go6976.CCCP | 1 |\n",
       "| Reporter.intensity.corrected.9.TMT1_Lysate | Reporter.intensity.corrected.9.TMT1_Lysate  |  9 | protein | Go6976.CCCP.2 | Go6976.CCCP | 1 |\n",
       "| Reporter.intensity.corrected.10.TMT1_Lysate | Reporter.intensity.corrected.10.TMT1_Lysate | 10 | protein | Go6976.CCCP.3 | Go6976.CCCP | 1 |\n",
       "| Reporter.intensity.corrected.11.TMT1_Lysate | Reporter.intensity.corrected.11.TMT1_Lysate | 11 | protein | pool          | pool        | 1 |\n",
       "\n"
      ],
      "text/plain": [
       "                                            sampleIDs                                  \n",
       "Reporter.intensity.corrected.1.TMT1_Lysate  Reporter.intensity.corrected.1.TMT1_Lysate \n",
       "Reporter.intensity.corrected.2.TMT1_Lysate  Reporter.intensity.corrected.2.TMT1_Lysate \n",
       "Reporter.intensity.corrected.3.TMT1_Lysate  Reporter.intensity.corrected.3.TMT1_Lysate \n",
       "Reporter.intensity.corrected.4.TMT1_Lysate  Reporter.intensity.corrected.4.TMT1_Lysate \n",
       "Reporter.intensity.corrected.5.TMT1_Lysate  Reporter.intensity.corrected.5.TMT1_Lysate \n",
       "Reporter.intensity.corrected.6.TMT1_Lysate  Reporter.intensity.corrected.6.TMT1_Lysate \n",
       "Reporter.intensity.corrected.7.TMT1_Lysate  Reporter.intensity.corrected.7.TMT1_Lysate \n",
       "Reporter.intensity.corrected.8.TMT1_Lysate  Reporter.intensity.corrected.8.TMT1_Lysate \n",
       "Reporter.intensity.corrected.9.TMT1_Lysate  Reporter.intensity.corrected.9.TMT1_Lysate \n",
       "Reporter.intensity.corrected.10.TMT1_Lysate Reporter.intensity.corrected.10.TMT1_Lysate\n",
       "Reporter.intensity.corrected.11.TMT1_Lysate Reporter.intensity.corrected.11.TMT1_Lysate\n",
       "                                            channel enrichment sample       \n",
       "Reporter.intensity.corrected.1.TMT1_Lysate   1      protein    control.1    \n",
       "Reporter.intensity.corrected.2.TMT1_Lysate   2      protein    control.2    \n",
       "Reporter.intensity.corrected.3.TMT1_Lysate   3      protein    control.3    \n",
       "Reporter.intensity.corrected.4.TMT1_Lysate   4      protein    CCCP.1       \n",
       "Reporter.intensity.corrected.5.TMT1_Lysate   5      protein    CCCP.2       \n",
       "Reporter.intensity.corrected.6.TMT1_Lysate   6      protein    CCCP.3       \n",
       "Reporter.intensity.corrected.7.TMT1_Lysate   7      protein    CCCP.4       \n",
       "Reporter.intensity.corrected.8.TMT1_Lysate   8      protein    Go6976.CCCP.1\n",
       "Reporter.intensity.corrected.9.TMT1_Lysate   9      protein    Go6976.CCCP.2\n",
       "Reporter.intensity.corrected.10.TMT1_Lysate 10      protein    Go6976.CCCP.3\n",
       "Reporter.intensity.corrected.11.TMT1_Lysate 11      protein    pool         \n",
       "                                            group       batch\n",
       "Reporter.intensity.corrected.1.TMT1_Lysate  control     1    \n",
       "Reporter.intensity.corrected.2.TMT1_Lysate  control     1    \n",
       "Reporter.intensity.corrected.3.TMT1_Lysate  control     1    \n",
       "Reporter.intensity.corrected.4.TMT1_Lysate  CCCP        1    \n",
       "Reporter.intensity.corrected.5.TMT1_Lysate  CCCP        1    \n",
       "Reporter.intensity.corrected.6.TMT1_Lysate  CCCP        1    \n",
       "Reporter.intensity.corrected.7.TMT1_Lysate  CCCP        1    \n",
       "Reporter.intensity.corrected.8.TMT1_Lysate  Go6976.CCCP 1    \n",
       "Reporter.intensity.corrected.9.TMT1_Lysate  Go6976.CCCP 1    \n",
       "Reporter.intensity.corrected.10.TMT1_Lysate Go6976.CCCP 1    \n",
       "Reporter.intensity.corrected.11.TMT1_Lysate pool        1    "
      ]
     },
     "metadata": {},
     "output_type": "display_data"
    },
    {
     "data": {
      "text/html": [
       "<style>\n",
       ".list-inline {list-style: none; margin:0; padding: 0}\n",
       ".list-inline>li {display: inline-block}\n",
       ".list-inline>li:not(:last-child)::after {content: \"\\00b7\"; padding: 0 .5ex}\n",
       "</style>\n",
       "<ol class=list-inline><li>'protein_annotation.csv'</li><li>'protein_intensities.csv'</li><li>'protein_sample_metadata.csv'</li></ol>\n"
      ],
      "text/latex": [
       "\\begin{enumerate*}\n",
       "\\item 'protein\\_annotation.csv'\n",
       "\\item 'protein\\_intensities.csv'\n",
       "\\item 'protein\\_sample\\_metadata.csv'\n",
       "\\end{enumerate*}\n"
      ],
      "text/markdown": [
       "1. 'protein_annotation.csv'\n",
       "2. 'protein_intensities.csv'\n",
       "3. 'protein_sample_metadata.csv'\n",
       "\n",
       "\n"
      ],
      "text/plain": [
       "[1] \"protein_annotation.csv\"      \"protein_intensities.csv\"    \n",
       "[3] \"protein_sample_metadata.csv\""
      ]
     },
     "metadata": {},
     "output_type": "display_data"
    }
   ],
   "source": [
    "##-------------------------\n",
    "##    IMPORT TARGETS\n",
    "##-------------------------\n",
    "targets.file <- \"Higgs_020421_protein_targets.csv\"\n",
    "targets <- read.csv(file=file.path(\".\",targets.file), header=TRUE, stringsAsFactors=FALSE)\n",
    "rownames(targets) <- targets$sampleIDs\n",
    "targets\n",
    "\n",
    "stopifnot(colnames(extractProtein$rawData)==rownames(targets))\n",
    "extractProtein$targets <- targets\n",
    "\n",
    "\n",
    "## SAVE PROTEIN SAMPLE META DATA \n",
    "write.csv(targets, file.path(dat.dir, \"protein_sample_metadata.csv\"), row.names=FALSE)\n",
    "\n",
    "\n",
    "list.files(dat.dir)"
   ]
  },
  {
   "cell_type": "code",
   "execution_count": 10,
   "id": "eb8280c5",
   "metadata": {},
   "outputs": [
    {
     "data": {
      "text/html": [
       "<style>\n",
       ".list-inline {list-style: none; margin:0; padding: 0}\n",
       ".list-inline>li {display: inline-block}\n",
       ".list-inline>li:not(:last-child)::after {content: \"\\00b7\"; padding: 0 .5ex}\n",
       "</style>\n",
       "<ol class=list-inline><li>'control'</li><li>'CCCP'</li><li>'Go6976.CCCP'</li><li>'pool'</li></ol>\n"
      ],
      "text/latex": [
       "\\begin{enumerate*}\n",
       "\\item 'control'\n",
       "\\item 'CCCP'\n",
       "\\item 'Go6976.CCCP'\n",
       "\\item 'pool'\n",
       "\\end{enumerate*}\n"
      ],
      "text/markdown": [
       "1. 'control'\n",
       "2. 'CCCP'\n",
       "3. 'Go6976.CCCP'\n",
       "4. 'pool'\n",
       "\n",
       "\n"
      ],
      "text/plain": [
       "[1] \"control\"     \"CCCP\"        \"Go6976.CCCP\" \"pool\"       "
      ]
     },
     "metadata": {},
     "output_type": "display_data"
    },
    {
     "data": {
      "text/html": [
       "<table class=\"dataframe\">\n",
       "<caption>A data.frame: 4 × 3</caption>\n",
       "<thead>\n",
       "\t<tr><th></th><th scope=col>groups</th><th scope=col>no.samples</th><th scope=col>batch</th></tr>\n",
       "\t<tr><th></th><th scope=col>&lt;chr&gt;</th><th scope=col>&lt;int&gt;</th><th scope=col>&lt;chr&gt;</th></tr>\n",
       "</thead>\n",
       "<tbody>\n",
       "\t<tr><th scope=row>1</th><td>control    </td><td>3</td><td>1</td></tr>\n",
       "\t<tr><th scope=row>2</th><td>CCCP       </td><td>4</td><td>1</td></tr>\n",
       "\t<tr><th scope=row>3</th><td>Go6976.CCCP</td><td>3</td><td>1</td></tr>\n",
       "\t<tr><th scope=row>4</th><td>pool       </td><td>1</td><td>1</td></tr>\n",
       "</tbody>\n",
       "</table>\n"
      ],
      "text/latex": [
       "A data.frame: 4 × 3\n",
       "\\begin{tabular}{r|lll}\n",
       "  & groups & no.samples & batch\\\\\n",
       "  & <chr> & <int> & <chr>\\\\\n",
       "\\hline\n",
       "\t1 & control     & 3 & 1\\\\\n",
       "\t2 & CCCP        & 4 & 1\\\\\n",
       "\t3 & Go6976.CCCP & 3 & 1\\\\\n",
       "\t4 & pool        & 1 & 1\\\\\n",
       "\\end{tabular}\n"
      ],
      "text/markdown": [
       "\n",
       "A data.frame: 4 × 3\n",
       "\n",
       "| <!--/--> | groups &lt;chr&gt; | no.samples &lt;int&gt; | batch &lt;chr&gt; |\n",
       "|---|---|---|---|\n",
       "| 1 | control     | 3 | 1 |\n",
       "| 2 | CCCP        | 4 | 1 |\n",
       "| 3 | Go6976.CCCP | 3 | 1 |\n",
       "| 4 | pool        | 1 | 1 |\n",
       "\n"
      ],
      "text/plain": [
       "  groups      no.samples batch\n",
       "1 control     3          1    \n",
       "2 CCCP        4          1    \n",
       "3 Go6976.CCCP 3          1    \n",
       "4 pool        1          1    "
      ]
     },
     "metadata": {},
     "output_type": "display_data"
    }
   ],
   "source": [
    "##----------------------------\n",
    "##    GROUP INFORMATION\n",
    "##----------------------------\n",
    "unique(targets$group)\n",
    "\n",
    "## summary of the number of samples per group\n",
    "grpStats <- data.frame(groups=c(names(table(factor(targets$group,levels=ordered(unique(targets$group)))))),\n",
    "                       no.samples=c(table(factor(targets$group, levels=ordered(unique(targets$group))))))\n",
    "\n",
    "tmp <- NULL\n",
    "for(i in 1:length(grpStats$groups)){\n",
    "   tmp[i] <- paste(unique(targets$batch[targets$group %in% grpStats$groups[i]]),collapse=\"/\")\n",
    "}\n",
    "grpStats$batch <- tmp; rm(\"tmp\")\n",
    "rownames(grpStats) <- c(rep(1:nrow(grpStats)))\n",
    "grpStats\n",
    "##---------------------------------------------------\n",
    "## NO     GROUP NAMES   NO.SAMPLES    BATCH\n",
    "##---------------------------------------------------\n",
    "## 1     DMSO_Control            3        1    **\n",
    "## 2      VCR_Control            3        1    **\n",
    "## 3            Blank            6      1/2    \n",
    "## 4             Pool            2      1/2    \n",
    "## 5         DMSO_PCB            3        2    **\n",
    "## 6          VCR_PCB            3        2    **\n"
   ]
  },
  {
   "cell_type": "code",
   "execution_count": 11,
   "id": "39017d28",
   "metadata": {},
   "outputs": [
    {
     "data": {
      "text/html": [
       "<style>\n",
       ".list-inline {list-style: none; margin:0; padding: 0}\n",
       ".list-inline>li {display: inline-block}\n",
       ".list-inline>li:not(:last-child)::after {content: \"\\00b7\"; padding: 0 .5ex}\n",
       "</style>\n",
       "<ol class=list-inline><li>'CCCP_vs_control = CCCP-control'</li><li>'Go6976.CCCP_vs_control = Go6976.CCCP-control'</li><li>'Go6976.CCCP_vs_CCCP = Go6976.CCCP-CCCP'</li></ol>\n"
      ],
      "text/latex": [
       "\\begin{enumerate*}\n",
       "\\item 'CCCP\\_vs\\_control = CCCP-control'\n",
       "\\item 'Go6976.CCCP\\_vs\\_control = Go6976.CCCP-control'\n",
       "\\item 'Go6976.CCCP\\_vs\\_CCCP = Go6976.CCCP-CCCP'\n",
       "\\end{enumerate*}\n"
      ],
      "text/markdown": [
       "1. 'CCCP_vs_control = CCCP-control'\n",
       "2. 'Go6976.CCCP_vs_control = Go6976.CCCP-control'\n",
       "3. 'Go6976.CCCP_vs_CCCP = Go6976.CCCP-CCCP'\n",
       "\n",
       "\n"
      ],
      "text/plain": [
       "[1] \"CCCP_vs_control = CCCP-control\"              \n",
       "[2] \"Go6976.CCCP_vs_control = Go6976.CCCP-control\"\n",
       "[3] \"Go6976.CCCP_vs_CCCP = Go6976.CCCP-CCCP\"      "
      ]
     },
     "metadata": {},
     "output_type": "display_data"
    }
   ],
   "source": [
    "### **4.3 Import Contrast Matrix**\n",
    "##-------------------------\n",
    "##    IMPORT CONTRASTS \n",
    "##-------------------------\n",
    "contrast.file   <- \"Higgs_020421_contrasts.csv\"\n",
    "contrast.matrix <- read.csv(file=file.path(\".\", contrast.file), col.names=NA, header=FALSE)\n",
    "contrast.vec    <- as.vector(contrast.matrix$NA.)\n",
    "contrastGroups  <- extractContrastGroups(contrast.vec=contrast.vec)\n",
    "contrastNames   <- names(contrastGroups)\n",
    "\n",
    "contrast.vec\n",
    "\n",
    "## [1] VCR_Control_vs_DMSO_Control = VCR_Control-DMSO_Control\n",
    "## [2] DMSO_PCB_vs_DMSO_Control = DMSO_PCB-DMSO_Control\n",
    "## [3] VCR_PCB_vs_DMSO_Control = VCR_PCB-DMSO_Control\n"
   ]
  },
  {
   "cell_type": "code",
   "execution_count": 12,
   "id": "959f8573",
   "metadata": {},
   "outputs": [
    {
     "data": {
      "text/html": [
       "<style>\n",
       ".list-inline {list-style: none; margin:0; padding: 0}\n",
       ".list-inline>li {display: inline-block}\n",
       ".list-inline>li:not(:last-child)::after {content: \"\\00b7\"; padding: 0 .5ex}\n",
       "</style>\n",
       "<ol class=list-inline><li>'control'</li><li>'CCCP'</li><li>'Go6976.CCCP'</li><li>'pool'</li></ol>\n"
      ],
      "text/latex": [
       "\\begin{enumerate*}\n",
       "\\item 'control'\n",
       "\\item 'CCCP'\n",
       "\\item 'Go6976.CCCP'\n",
       "\\item 'pool'\n",
       "\\end{enumerate*}\n"
      ],
      "text/markdown": [
       "1. 'control'\n",
       "2. 'CCCP'\n",
       "3. 'Go6976.CCCP'\n",
       "4. 'pool'\n",
       "\n",
       "\n"
      ],
      "text/plain": [
       "[1] \"control\"     \"CCCP\"        \"Go6976.CCCP\" \"pool\"       "
      ]
     },
     "metadata": {},
     "output_type": "display_data"
    },
    {
     "data": {
      "text/html": [
       "<style>\n",
       ".list-inline {list-style: none; margin:0; padding: 0}\n",
       ".list-inline>li {display: inline-block}\n",
       ".list-inline>li:not(:last-child)::after {content: \"\\00b7\"; padding: 0 .5ex}\n",
       "</style>\n",
       "<ol class=list-inline><li>'control'</li><li>'CCCP'</li><li>'Go6976.CCCP'</li></ol>\n"
      ],
      "text/latex": [
       "\\begin{enumerate*}\n",
       "\\item 'control'\n",
       "\\item 'CCCP'\n",
       "\\item 'Go6976.CCCP'\n",
       "\\end{enumerate*}\n"
      ],
      "text/markdown": [
       "1. 'control'\n",
       "2. 'CCCP'\n",
       "3. 'Go6976.CCCP'\n",
       "\n",
       "\n"
      ],
      "text/plain": [
       "[1] \"control\"     \"CCCP\"        \"Go6976.CCCP\""
      ]
     },
     "metadata": {},
     "output_type": "display_data"
    },
    {
     "name": "stdout",
     "output_type": "stream",
     "text": [
      "[2021-09-07 13:51:34]: matching input data ...\n",
      "[2021-09-07 13:51:34]: extracting  10 samples for the following groups  control, CCCP, Go6976.CCCP\n",
      "[2021-09-07 13:51:34]: a total of 1 samples representing 1 groups (i.e. pool (n=1)), were removed from the data set. \n",
      "\n",
      "\n"
     ]
    }
   ],
   "source": [
    "## **5. Preprocessing**\n",
    "\n",
    "### **5.1 Select Data**\n",
    "\n",
    "##------------------------------------------------------------------\n",
    "##   SUBSET DATA BY BATCH, GROUPS, AND/OR REMOVE OUTLIER SAMPLES\n",
    "##------------------------------------------------------------------\n",
    "\n",
    "## remove pool and blanks and other samples\n",
    "## vector of group names\n",
    "\n",
    "unique(targets$group)\n",
    "\n",
    "group.names <- unique(targets$group)[c(-4)];group.names \n",
    "\n",
    "subProtein <- subsetMyData(rawData     = extractProtein$rawData, \n",
    "                           rawAnnot    = extractProtein$rawAnnot, \n",
    "                           targets     = targets, \n",
    "                           batch.names = NULL,\n",
    "                           group.names = group.names,\n",
    "                           rm.samples  = NULL,\n",
    "                           override    = FALSE,\n",
    "                           enrich      = \"protein\")"
   ]
  },
  {
   "cell_type": "code",
   "execution_count": 13,
   "id": "3ad51636",
   "metadata": {},
   "outputs": [
    {
     "name": "stdout",
     "output_type": "stream",
     "text": [
      "[2021-09-07 13:51:34]: matching input data ...\n",
      "[1] \"[2021-09-07 13:51:41] [02]  box plot :  protein_analysis/02_quality_control/rawBoxplot.png\"\n"
     ]
    },
    {
     "data": {
      "text/html": [
       "<strong>png:</strong> 2"
      ],
      "text/latex": [
       "\\textbf{png:} 2"
      ],
      "text/markdown": [
       "**png:** 2"
      ],
      "text/plain": [
       "png \n",
       "  2 "
      ]
     },
     "metadata": {},
     "output_type": "display_data"
    },
    {
     "name": "stdout",
     "output_type": "stream",
     "text": [
      "[2021-09-07 13:51:34]: matching input data ...\n",
      "[1] \"[2021-09-07 13:51:41] [02]  violin plot :  protein_analysis/02_quality_control/rawViolin.png\"\n"
     ]
    },
    {
     "data": {
      "text/html": [
       "<strong>png:</strong> 2"
      ],
      "text/latex": [
       "\\textbf{png:} 2"
      ],
      "text/markdown": [
       "**png:** 2"
      ],
      "text/plain": [
       "png \n",
       "  2 "
      ]
     },
     "metadata": {},
     "output_type": "display_data"
    }
   ],
   "source": [
    "## QC PLOTS: RAW DATA\n",
    "\n",
    "boxplotRawData(rawData  = subProtein$subData, \n",
    "               targets  = subProtein$subTargets, \n",
    "               title    = paste(\"Protein: \",\"Raw Data\",sep=\"\"),\n",
    "               file     = file.path(figs.dir, \"rawBoxplot.png\"), \n",
    "               legend   = TRUE, \n",
    "               inset    = -0.43,\n",
    "               save     = TRUE,\n",
    "               enrich   = \"protein\")\n",
    "\n",
    "violinRawData(rawData   = subProtein$subData, \n",
    "              targets   = subProtein$subTargets, \n",
    "              title     = paste(\"Protein: \",\"Raw Data\",sep=\"\"),\n",
    "              file      = file.path(figs.dir, \"rawViolin.png\"),\n",
    "              legend    = TRUE, \n",
    "              inset     = -0.43, \n",
    "              save      = TRUE, \n",
    "              enrich    = \"protein\")\n"
   ]
  },
  {
   "cell_type": "markdown",
   "id": "01853f51",
   "metadata": {},
   "source": [
    "![image](protein_analysis/02_quality_control/rawBoxplot.png)"
   ]
  },
  {
   "cell_type": "markdown",
   "id": "aac9edd9",
   "metadata": {},
   "source": [
    "![image](protein_analysis/02_quality_control/rawViolin.png)"
   ]
  },
  {
   "cell_type": "code",
   "execution_count": 14,
   "id": "41015f05",
   "metadata": {},
   "outputs": [
    {
     "data": {
      "text/html": [
       "<style>\n",
       ".list-inline {list-style: none; margin:0; padding: 0}\n",
       ".list-inline>li {display: inline-block}\n",
       ".list-inline>li:not(:last-child)::after {content: \"\\00b7\"; padding: 0 .5ex}\n",
       "</style>\n",
       "<ol class=list-inline><li>'protein_analysis/02_quality_control/rawBoxplot.png'</li><li>'protein_analysis/02_quality_control/rawViolin.png'</li></ol>\n"
      ],
      "text/latex": [
       "\\begin{enumerate*}\n",
       "\\item 'protein\\_analysis/02\\_quality\\_control/rawBoxplot.png'\n",
       "\\item 'protein\\_analysis/02\\_quality\\_control/rawViolin.png'\n",
       "\\end{enumerate*}\n"
      ],
      "text/markdown": [
       "1. 'protein_analysis/02_quality_control/rawBoxplot.png'\n",
       "2. 'protein_analysis/02_quality_control/rawViolin.png'\n",
       "\n",
       "\n"
      ],
      "text/plain": [
       "[1] \"protein_analysis/02_quality_control/rawBoxplot.png\"\n",
       "[2] \"protein_analysis/02_quality_control/rawViolin.png\" "
      ]
     },
     "metadata": {},
     "output_type": "display_data"
    },
    {
     "data": {
      "text/plain": [
       "[1] \"protein_analysis/02_quality_control/rawBoxplot.png\"\n",
       "[2] \"protein_analysis/02_quality_control/rawViolin.png\" \n",
       "attr(,\"class\")\n",
       "[1] \"knit_image_paths\" \"knit_asis\"       "
      ]
     },
     "metadata": {},
     "output_type": "display_data"
    }
   ],
   "source": [
    "## RAW QC PLOTS\n",
    "images1 <- list.files(path=figs.dir, pattern=\"raw\", full.name=TRUE); images1\n",
    "knitr::include_graphics(images1)"
   ]
  },
  {
   "cell_type": "code",
   "execution_count": 15,
   "id": "58d297ec",
   "metadata": {},
   "outputs": [
    {
     "name": "stdout",
     "output_type": "stream",
     "text": [
      "[2021-09-07 13:51:34]: matching input data ...\n",
      "\n",
      "[2021-09-07 13:51:34]: matching input data ...\n",
      "\n",
      "[2021-09-07 13:51:34]: extracting proteins with measurements (intensity > 0) in at least 2 samples in 1 or more groups.\n",
      "\n",
      "\n",
      "summary stats:                    value\n",
      "no_filter_proteins   5704\n",
      "no_input_proteins    7044\n",
      "no_input_samples       10\n",
      "no_removed_proteins  1340\n",
      "min.grps                1\n",
      "min.reps                2\n",
      "\n",
      "\n"
     ]
    }
   ],
   "source": [
    "##--------------------------\n",
    "##   FILTERING THRESHOLD \n",
    "##--------------------------\n",
    "## KEEP PROTEINS WITH INTENSITY > 0 IN MIN. X REPLICATES IN Y OR MORE GROUPS\n",
    "\n",
    "min.reps <- 2\n",
    "min.grps <- 1\n",
    "\n",
    "filterProtein <- filterMyData(rawData  = subProtein$subData,\n",
    "                              rawAnnot = subProtein$subAnnot, \n",
    "                              targets  = subProtein$subTargets, \n",
    "                              min.reps = min.reps, \n",
    "                              min.grps = min.grps,\n",
    "                              enrich   = \"protein\")\n",
    "\n",
    "##    summary stats:  value\n",
    "## no_input_samples      12\n",
    "## no_input_protein    8004\n",
    "## no_removed_protein   254\n",
    "## no_filter_protein   7750\n",
    "## min.reps               2\n",
    "## min.grps               1\n",
    "\n",
    "\n",
    "## FILTER ZEROS IN ALL SAMPLES\n",
    "## filterZero  <- removeZeros(rawData=subProtein$subData)\n",
    "## [2020-12-28 22:46:53]: 247  entries with zero intensities in all  12  samples removed.\n",
    "## [2020-12-28 22:46:53]: 7757  row entries retained."
   ]
  },
  {
   "cell_type": "code",
   "execution_count": 16,
   "id": "c3e46f23",
   "metadata": {},
   "outputs": [
    {
     "name": "stdout",
     "output_type": "stream",
     "text": [
      "[2021-09-07 13:51:34]: matching input data ...\n",
      "[1] \"[2021-09-07 13:51:43] [02]  box plot :  protein_analysis/02_quality_control/filteredBoxplot.png\"\n"
     ]
    },
    {
     "data": {
      "text/html": [
       "<strong>png:</strong> 2"
      ],
      "text/latex": [
       "\\textbf{png:} 2"
      ],
      "text/markdown": [
       "**png:** 2"
      ],
      "text/plain": [
       "png \n",
       "  2 "
      ]
     },
     "metadata": {},
     "output_type": "display_data"
    },
    {
     "name": "stdout",
     "output_type": "stream",
     "text": [
      "[2021-09-07 13:51:34]: matching input data ...\n",
      "[1] \"[2021-09-07 13:51:43] [02]  violin plot :  protein_analysis/02_quality_control/filteredViolin.png\"\n"
     ]
    },
    {
     "data": {
      "text/html": [
       "<strong>png:</strong> 2"
      ],
      "text/latex": [
       "\\textbf{png:} 2"
      ],
      "text/markdown": [
       "**png:** 2"
      ],
      "text/plain": [
       "png \n",
       "  2 "
      ]
     },
     "metadata": {},
     "output_type": "display_data"
    },
    {
     "data": {
      "text/html": [
       "<style>\n",
       ".list-inline {list-style: none; margin:0; padding: 0}\n",
       ".list-inline>li {display: inline-block}\n",
       ".list-inline>li:not(:last-child)::after {content: \"\\00b7\"; padding: 0 .5ex}\n",
       "</style>\n",
       "<ol class=list-inline><li>'protein_analysis/02_quality_control/filteredBoxplot.png'</li><li>'protein_analysis/02_quality_control/filteredViolin.png'</li></ol>\n"
      ],
      "text/latex": [
       "\\begin{enumerate*}\n",
       "\\item 'protein\\_analysis/02\\_quality\\_control/filteredBoxplot.png'\n",
       "\\item 'protein\\_analysis/02\\_quality\\_control/filteredViolin.png'\n",
       "\\end{enumerate*}\n"
      ],
      "text/markdown": [
       "1. 'protein_analysis/02_quality_control/filteredBoxplot.png'\n",
       "2. 'protein_analysis/02_quality_control/filteredViolin.png'\n",
       "\n",
       "\n"
      ],
      "text/plain": [
       "[1] \"protein_analysis/02_quality_control/filteredBoxplot.png\"\n",
       "[2] \"protein_analysis/02_quality_control/filteredViolin.png\" "
      ]
     },
     "metadata": {},
     "output_type": "display_data"
    },
    {
     "data": {
      "text/plain": [
       "[1] \"protein_analysis/02_quality_control/filteredBoxplot.png\"\n",
       "[2] \"protein_analysis/02_quality_control/filteredViolin.png\" \n",
       "attr(,\"class\")\n",
       "[1] \"knit_image_paths\" \"knit_asis\"       "
      ]
     },
     "metadata": {},
     "output_type": "display_data"
    }
   ],
   "source": [
    "## QC PLOTS: FILTERED DATA\n",
    "\n",
    "boxplotRawData(rawData  = filterProtein$filterData, \n",
    "               targets  = filterProtein$filterTargets, \n",
    "               title    = paste(\"Protein: \",\"Filtered\",sep=\"\"),\n",
    "               legend   = TRUE, \n",
    "               inset    = -0.43, \n",
    "               file     = file.path(figs.dir, \"filteredBoxplot.png\"), \n",
    "               save     = TRUE,\n",
    "               enrich   = \"protein\")\n",
    "\n",
    "violinRawData(rawData   = filterProtein$filterData, \n",
    "              targets   = filterProtein$filterTargets, \n",
    "              title     = paste(\"Protein: \",\"Filtered\",sep=\"\"),\n",
    "              file      = file.path(figs.dir, \"filteredViolin.png\"), \n",
    "              legend    = TRUE, \n",
    "              inset     = -0.43, \n",
    "              save      = TRUE, \n",
    "              enrich    = \"protein\")\n",
    "\n",
    "\n",
    "## FILTERED QC PLOTS\n",
    "images2 <- list.files(path=figs.dir, pattern=\"filtered\", full.name=TRUE); images2\n",
    "knitr::include_graphics(images2)\n"
   ]
  },
  {
   "cell_type": "markdown",
   "id": "0eb1d5b8",
   "metadata": {},
   "source": [
    "![image](protein_analysis/02_quality_control/filteredBoxplot.png)"
   ]
  },
  {
   "cell_type": "markdown",
   "id": "7c53f7b1",
   "metadata": {},
   "source": [
    "![image](protein_analysis/02_quality_control/filteredViolin.png)"
   ]
  },
  {
   "cell_type": "code",
   "execution_count": 17,
   "id": "9ab0d786",
   "metadata": {},
   "outputs": [],
   "source": [
    "### **5.3 Normalization**"
   ]
  },
  {
   "cell_type": "code",
   "execution_count": 18,
   "id": "e9739780",
   "metadata": {},
   "outputs": [
    {
     "name": "stdout",
     "output_type": "stream",
     "text": [
      "[2021-09-07 13:51:34]: matching input data ...\n",
      "\n",
      "[2021-09-07 13:51:34]: matching input data ...\n",
      "[2021-09-07 13:51:34]: normalizing data ...\n",
      "\n"
     ]
    },
    {
     "ename": "ERROR",
     "evalue": "Error in preprocessCore::normalize.quantiles(as.matrix(logDat), copy = FALSE): ERROR; return code from pthread_create() is 22\n\n",
     "output_type": "error",
     "traceback": [
      "Error in preprocessCore::normalize.quantiles(as.matrix(logDat), copy = FALSE): ERROR; return code from pthread_create() is 22\n\nTraceback:\n",
      "1. normMyData(filterData = filterProtein$filterData, filterAnnot = filterProtein$filterAnnot, \n .     targets = filterProtein$filterTargets, enrich = \"protein\")",
      "2. quantNorm(normList[[\"log2\"]])",
      "3. preprocessCore::normalize.quantiles(as.matrix(logDat), copy = FALSE)"
     ]
    }
   ],
   "source": [
    "##----------------------\n",
    "##   NORMALIZE DATA\n",
    "##----------------------\n",
    "normProtein <- normMyData(filterData  = filterProtein$filterData, \n",
    "                          filterAnnot = filterProtein$filterAnnot, \n",
    "                          targets     = filterProtein$filterTargets, \n",
    "                          enrich      = \"protein\")\n",
    "\n",
    "\n",
    "list.files(path=\"./data/protein_data\", pattern=\".csv\")\n",
    "list.files(path=dat.dir, pattern=\".csv\")"
   ]
  },
  {
   "cell_type": "code",
   "execution_count": null,
   "id": "18701bf3",
   "metadata": {},
   "outputs": [],
   "source": [
    "##----------------------\n",
    "##   NORMALIZE DATA\n",
    "##----------------------\n",
    "normProtein <- normMyData(filterData  = filterProtein$filterData, \n",
    "                          filterAnnot = filterProtein$filterAnnot, \n",
    "                          targets     = filterProtein$filterTargets, \n",
    "                          enrich      = \"protein\")\n",
    "\n",
    "\n",
    "list.files(path=\"./data/protein_data\", pattern=\".csv\")\n",
    "list.files(path=dat.dir, pattern=\".csv\")"
   ]
  },
  {
   "cell_type": "code",
   "execution_count": null,
   "id": "067201be",
   "metadata": {},
   "outputs": [],
   "source": [
    "##--------------------------------------------\n",
    "##   PROTEINORM QC PLOTS: NORMALIZED DATA\n",
    "##--------------------------------------------\n",
    "proteiNormPlots(normList  = normProtein$normList, \n",
    "                targets   = normProtein$normTargets, \n",
    "                prefix    = NULL, \n",
    "                method    = NULL, \n",
    "                dir       = figs.dir, \n",
    "                save      = TRUE, \n",
    "                enrich    = \"protein\")\n",
    "\n",
    "\n",
    "list.files(path=figs.dir)"
   ]
  },
  {
   "cell_type": "code",
   "execution_count": null,
   "id": "c6925543",
   "metadata": {},
   "outputs": [],
   "source": []
  }
 ],
 "metadata": {
  "environment": {
   "name": "r-cpu.4-0.m78",
   "type": "gcloud",
   "uri": "gcr.io/deeplearning-platform-release/r-cpu.4-0:m78"
  },
  "kernelspec": {
   "display_name": "R",
   "language": "R",
   "name": "ir"
  },
  "language_info": {
   "codemirror_mode": "r",
   "file_extension": ".r",
   "mimetype": "text/x-r-source",
   "name": "R",
   "pygments_lexer": "r",
   "version": "4.1.1"
  }
 },
 "nbformat": 4,
 "nbformat_minor": 5
}
